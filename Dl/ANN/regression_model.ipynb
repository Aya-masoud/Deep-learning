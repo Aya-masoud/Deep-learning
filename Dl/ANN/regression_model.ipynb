{
 "cells": [
  {
   "cell_type": "code",
   "execution_count": 99,
   "id": "a775af03",
   "metadata": {},
   "outputs": [],
   "source": [
    "import pandas as pd\n"
   ]
  },
  {
   "cell_type": "code",
   "execution_count": 100,
   "id": "6a94667f",
   "metadata": {},
   "outputs": [
    {
     "data": {
      "text/html": [
       "<div>\n",
       "<style scoped>\n",
       "    .dataframe tbody tr th:only-of-type {\n",
       "        vertical-align: middle;\n",
       "    }\n",
       "\n",
       "    .dataframe tbody tr th {\n",
       "        vertical-align: top;\n",
       "    }\n",
       "\n",
       "    .dataframe thead th {\n",
       "        text-align: right;\n",
       "    }\n",
       "</style>\n",
       "<table border=\"1\" class=\"dataframe\">\n",
       "  <thead>\n",
       "    <tr style=\"text-align: right;\">\n",
       "      <th></th>\n",
       "      <th>mpg</th>\n",
       "      <th>cylinders</th>\n",
       "      <th>displacement</th>\n",
       "      <th>horsepower</th>\n",
       "      <th>weight</th>\n",
       "      <th>acceleration</th>\n",
       "      <th>model year</th>\n",
       "      <th>origin</th>\n",
       "      <th>car name</th>\n",
       "    </tr>\n",
       "  </thead>\n",
       "  <tbody>\n",
       "    <tr>\n",
       "      <th>0</th>\n",
       "      <td>18.0</td>\n",
       "      <td>8</td>\n",
       "      <td>307.0</td>\n",
       "      <td>130</td>\n",
       "      <td>3504</td>\n",
       "      <td>12.0</td>\n",
       "      <td>70</td>\n",
       "      <td>1</td>\n",
       "      <td>chevrolet chevelle malibu</td>\n",
       "    </tr>\n",
       "    <tr>\n",
       "      <th>1</th>\n",
       "      <td>15.0</td>\n",
       "      <td>8</td>\n",
       "      <td>350.0</td>\n",
       "      <td>165</td>\n",
       "      <td>3693</td>\n",
       "      <td>11.5</td>\n",
       "      <td>70</td>\n",
       "      <td>1</td>\n",
       "      <td>buick skylark 320</td>\n",
       "    </tr>\n",
       "    <tr>\n",
       "      <th>2</th>\n",
       "      <td>18.0</td>\n",
       "      <td>8</td>\n",
       "      <td>318.0</td>\n",
       "      <td>150</td>\n",
       "      <td>3436</td>\n",
       "      <td>11.0</td>\n",
       "      <td>70</td>\n",
       "      <td>1</td>\n",
       "      <td>plymouth satellite</td>\n",
       "    </tr>\n",
       "    <tr>\n",
       "      <th>3</th>\n",
       "      <td>16.0</td>\n",
       "      <td>8</td>\n",
       "      <td>304.0</td>\n",
       "      <td>150</td>\n",
       "      <td>3433</td>\n",
       "      <td>12.0</td>\n",
       "      <td>70</td>\n",
       "      <td>1</td>\n",
       "      <td>amc rebel sst</td>\n",
       "    </tr>\n",
       "    <tr>\n",
       "      <th>4</th>\n",
       "      <td>17.0</td>\n",
       "      <td>8</td>\n",
       "      <td>302.0</td>\n",
       "      <td>140</td>\n",
       "      <td>3449</td>\n",
       "      <td>10.5</td>\n",
       "      <td>70</td>\n",
       "      <td>1</td>\n",
       "      <td>ford torino</td>\n",
       "    </tr>\n",
       "  </tbody>\n",
       "</table>\n",
       "</div>"
      ],
      "text/plain": [
       "    mpg  cylinders  displacement horsepower  weight  acceleration  model year  \\\n",
       "0  18.0          8         307.0        130    3504          12.0          70   \n",
       "1  15.0          8         350.0        165    3693          11.5          70   \n",
       "2  18.0          8         318.0        150    3436          11.0          70   \n",
       "3  16.0          8         304.0        150    3433          12.0          70   \n",
       "4  17.0          8         302.0        140    3449          10.5          70   \n",
       "\n",
       "   origin                   car name  \n",
       "0       1  chevrolet chevelle malibu  \n",
       "1       1          buick skylark 320  \n",
       "2       1         plymouth satellite  \n",
       "3       1              amc rebel sst  \n",
       "4       1                ford torino  "
      ]
     },
     "execution_count": 100,
     "metadata": {},
     "output_type": "execute_result"
    }
   ],
   "source": [
    "data=pd.read_csv(\"auto-mpg.csv\")\n",
    "data.head()"
   ]
  },
  {
   "cell_type": "code",
   "execution_count": 101,
   "id": "aaa332ec",
   "metadata": {},
   "outputs": [
    {
     "data": {
      "text/plain": [
       "(398, 9)"
      ]
     },
     "execution_count": 101,
     "metadata": {},
     "output_type": "execute_result"
    }
   ],
   "source": [
    "data.shape"
   ]
  },
  {
   "cell_type": "code",
   "execution_count": 102,
   "id": "e747f83a",
   "metadata": {},
   "outputs": [
    {
     "name": "stdout",
     "output_type": "stream",
     "text": [
      "<class 'pandas.core.frame.DataFrame'>\n",
      "RangeIndex: 398 entries, 0 to 397\n",
      "Data columns (total 9 columns):\n",
      " #   Column        Non-Null Count  Dtype  \n",
      "---  ------        --------------  -----  \n",
      " 0   mpg           398 non-null    float64\n",
      " 1   cylinders     398 non-null    int64  \n",
      " 2   displacement  398 non-null    float64\n",
      " 3   horsepower    398 non-null    object \n",
      " 4   weight        398 non-null    int64  \n",
      " 5   acceleration  398 non-null    float64\n",
      " 6   model year    398 non-null    int64  \n",
      " 7   origin        398 non-null    int64  \n",
      " 8   car name      398 non-null    object \n",
      "dtypes: float64(3), int64(4), object(2)\n",
      "memory usage: 28.1+ KB\n"
     ]
    }
   ],
   "source": [
    "data.info()"
   ]
  },
  {
   "cell_type": "code",
   "execution_count": 103,
   "id": "9e6077d7",
   "metadata": {},
   "outputs": [
    {
     "data": {
      "text/html": [
       "<div>\n",
       "<style scoped>\n",
       "    .dataframe tbody tr th:only-of-type {\n",
       "        vertical-align: middle;\n",
       "    }\n",
       "\n",
       "    .dataframe tbody tr th {\n",
       "        vertical-align: top;\n",
       "    }\n",
       "\n",
       "    .dataframe thead th {\n",
       "        text-align: right;\n",
       "    }\n",
       "</style>\n",
       "<table border=\"1\" class=\"dataframe\">\n",
       "  <thead>\n",
       "    <tr style=\"text-align: right;\">\n",
       "      <th></th>\n",
       "      <th>mpg</th>\n",
       "      <th>cylinders</th>\n",
       "      <th>displacement</th>\n",
       "      <th>horsepower</th>\n",
       "      <th>weight</th>\n",
       "      <th>acceleration</th>\n",
       "      <th>model year</th>\n",
       "      <th>origin</th>\n",
       "    </tr>\n",
       "  </thead>\n",
       "  <tbody>\n",
       "    <tr>\n",
       "      <th>0</th>\n",
       "      <td>18.0</td>\n",
       "      <td>8</td>\n",
       "      <td>307.0</td>\n",
       "      <td>130</td>\n",
       "      <td>3504</td>\n",
       "      <td>12.0</td>\n",
       "      <td>70</td>\n",
       "      <td>1</td>\n",
       "    </tr>\n",
       "    <tr>\n",
       "      <th>1</th>\n",
       "      <td>15.0</td>\n",
       "      <td>8</td>\n",
       "      <td>350.0</td>\n",
       "      <td>165</td>\n",
       "      <td>3693</td>\n",
       "      <td>11.5</td>\n",
       "      <td>70</td>\n",
       "      <td>1</td>\n",
       "    </tr>\n",
       "    <tr>\n",
       "      <th>2</th>\n",
       "      <td>18.0</td>\n",
       "      <td>8</td>\n",
       "      <td>318.0</td>\n",
       "      <td>150</td>\n",
       "      <td>3436</td>\n",
       "      <td>11.0</td>\n",
       "      <td>70</td>\n",
       "      <td>1</td>\n",
       "    </tr>\n",
       "    <tr>\n",
       "      <th>3</th>\n",
       "      <td>16.0</td>\n",
       "      <td>8</td>\n",
       "      <td>304.0</td>\n",
       "      <td>150</td>\n",
       "      <td>3433</td>\n",
       "      <td>12.0</td>\n",
       "      <td>70</td>\n",
       "      <td>1</td>\n",
       "    </tr>\n",
       "    <tr>\n",
       "      <th>4</th>\n",
       "      <td>17.0</td>\n",
       "      <td>8</td>\n",
       "      <td>302.0</td>\n",
       "      <td>140</td>\n",
       "      <td>3449</td>\n",
       "      <td>10.5</td>\n",
       "      <td>70</td>\n",
       "      <td>1</td>\n",
       "    </tr>\n",
       "    <tr>\n",
       "      <th>...</th>\n",
       "      <td>...</td>\n",
       "      <td>...</td>\n",
       "      <td>...</td>\n",
       "      <td>...</td>\n",
       "      <td>...</td>\n",
       "      <td>...</td>\n",
       "      <td>...</td>\n",
       "      <td>...</td>\n",
       "    </tr>\n",
       "    <tr>\n",
       "      <th>393</th>\n",
       "      <td>27.0</td>\n",
       "      <td>4</td>\n",
       "      <td>140.0</td>\n",
       "      <td>86</td>\n",
       "      <td>2790</td>\n",
       "      <td>15.6</td>\n",
       "      <td>82</td>\n",
       "      <td>1</td>\n",
       "    </tr>\n",
       "    <tr>\n",
       "      <th>394</th>\n",
       "      <td>44.0</td>\n",
       "      <td>4</td>\n",
       "      <td>97.0</td>\n",
       "      <td>52</td>\n",
       "      <td>2130</td>\n",
       "      <td>24.6</td>\n",
       "      <td>82</td>\n",
       "      <td>2</td>\n",
       "    </tr>\n",
       "    <tr>\n",
       "      <th>395</th>\n",
       "      <td>32.0</td>\n",
       "      <td>4</td>\n",
       "      <td>135.0</td>\n",
       "      <td>84</td>\n",
       "      <td>2295</td>\n",
       "      <td>11.6</td>\n",
       "      <td>82</td>\n",
       "      <td>1</td>\n",
       "    </tr>\n",
       "    <tr>\n",
       "      <th>396</th>\n",
       "      <td>28.0</td>\n",
       "      <td>4</td>\n",
       "      <td>120.0</td>\n",
       "      <td>79</td>\n",
       "      <td>2625</td>\n",
       "      <td>18.6</td>\n",
       "      <td>82</td>\n",
       "      <td>1</td>\n",
       "    </tr>\n",
       "    <tr>\n",
       "      <th>397</th>\n",
       "      <td>31.0</td>\n",
       "      <td>4</td>\n",
       "      <td>119.0</td>\n",
       "      <td>82</td>\n",
       "      <td>2720</td>\n",
       "      <td>19.4</td>\n",
       "      <td>82</td>\n",
       "      <td>1</td>\n",
       "    </tr>\n",
       "  </tbody>\n",
       "</table>\n",
       "<p>398 rows × 8 columns</p>\n",
       "</div>"
      ],
      "text/plain": [
       "      mpg  cylinders  displacement horsepower  weight  acceleration  \\\n",
       "0    18.0          8         307.0        130    3504          12.0   \n",
       "1    15.0          8         350.0        165    3693          11.5   \n",
       "2    18.0          8         318.0        150    3436          11.0   \n",
       "3    16.0          8         304.0        150    3433          12.0   \n",
       "4    17.0          8         302.0        140    3449          10.5   \n",
       "..    ...        ...           ...        ...     ...           ...   \n",
       "393  27.0          4         140.0         86    2790          15.6   \n",
       "394  44.0          4          97.0         52    2130          24.6   \n",
       "395  32.0          4         135.0         84    2295          11.6   \n",
       "396  28.0          4         120.0         79    2625          18.6   \n",
       "397  31.0          4         119.0         82    2720          19.4   \n",
       "\n",
       "     model year  origin  \n",
       "0            70       1  \n",
       "1            70       1  \n",
       "2            70       1  \n",
       "3            70       1  \n",
       "4            70       1  \n",
       "..          ...     ...  \n",
       "393          82       1  \n",
       "394          82       2  \n",
       "395          82       1  \n",
       "396          82       1  \n",
       "397          82       1  \n",
       "\n",
       "[398 rows x 8 columns]"
      ]
     },
     "execution_count": 103,
     "metadata": {},
     "output_type": "execute_result"
    }
   ],
   "source": [
    "data=data.drop(columns=['car name'])\n",
    "data"
   ]
  },
  {
   "cell_type": "code",
   "execution_count": 104,
   "id": "fc335d49",
   "metadata": {},
   "outputs": [
    {
     "name": "stdout",
     "output_type": "stream",
     "text": [
      "<class 'pandas.core.frame.DataFrame'>\n",
      "RangeIndex: 398 entries, 0 to 397\n",
      "Data columns (total 8 columns):\n",
      " #   Column        Non-Null Count  Dtype  \n",
      "---  ------        --------------  -----  \n",
      " 0   mpg           398 non-null    float64\n",
      " 1   cylinders     398 non-null    int64  \n",
      " 2   displacement  398 non-null    float64\n",
      " 3   horsepower    398 non-null    object \n",
      " 4   weight        398 non-null    int64  \n",
      " 5   acceleration  398 non-null    float64\n",
      " 6   model year    398 non-null    int64  \n",
      " 7   origin        398 non-null    int64  \n",
      "dtypes: float64(3), int64(4), object(1)\n",
      "memory usage: 25.0+ KB\n"
     ]
    }
   ],
   "source": [
    "data.info()"
   ]
  },
  {
   "cell_type": "code",
   "execution_count": 105,
   "id": "7b1c411f",
   "metadata": {},
   "outputs": [
    {
     "data": {
      "text/plain": [
       "array(['130', '165', '150', '140', '198', '220', '215', '225', '190',\n",
       "       '170', '160', '95', '97', '85', '88', '46', '87', '90', '113',\n",
       "       '200', '210', '193', '?', '100', '105', '175', '153', '180', '110',\n",
       "       '72', '86', '70', '76', '65', '69', '60', '80', '54', '208', '155',\n",
       "       '112', '92', '145', '137', '158', '167', '94', '107', '230', '49',\n",
       "       '75', '91', '122', '67', '83', '78', '52', '61', '93', '148',\n",
       "       '129', '96', '71', '98', '115', '53', '81', '79', '120', '152',\n",
       "       '102', '108', '68', '58', '149', '89', '63', '48', '66', '139',\n",
       "       '103', '125', '133', '138', '135', '142', '77', '62', '132', '84',\n",
       "       '64', '74', '116', '82'], dtype=object)"
      ]
     },
     "execution_count": 105,
     "metadata": {},
     "output_type": "execute_result"
    }
   ],
   "source": [
    "data.horsepower.unique()"
   ]
  },
  {
   "cell_type": "code",
   "execution_count": 106,
   "id": "6e406d0a",
   "metadata": {},
   "outputs": [],
   "source": [
    "data[\"horsepower\"]=data[\"horsepower\"].replace(\"?\",0)\n",
    "data[\"horsepower\"]=data[\"horsepower\"].astype(\"int\")"
   ]
  },
  {
   "cell_type": "code",
   "execution_count": 107,
   "id": "ba858b06",
   "metadata": {},
   "outputs": [
    {
     "data": {
      "text/plain": [
       "mpg             float64\n",
       "cylinders         int64\n",
       "displacement    float64\n",
       "horsepower        int32\n",
       "weight            int64\n",
       "acceleration    float64\n",
       "model year        int64\n",
       "origin            int64\n",
       "dtype: object"
      ]
     },
     "execution_count": 107,
     "metadata": {},
     "output_type": "execute_result"
    }
   ],
   "source": [
    "data.dtypes"
   ]
  },
  {
   "cell_type": "code",
   "execution_count": 108,
   "id": "36cef9b9",
   "metadata": {},
   "outputs": [
    {
     "data": {
      "text/html": [
       "<div>\n",
       "<style scoped>\n",
       "    .dataframe tbody tr th:only-of-type {\n",
       "        vertical-align: middle;\n",
       "    }\n",
       "\n",
       "    .dataframe tbody tr th {\n",
       "        vertical-align: top;\n",
       "    }\n",
       "\n",
       "    .dataframe thead th {\n",
       "        text-align: right;\n",
       "    }\n",
       "</style>\n",
       "<table border=\"1\" class=\"dataframe\">\n",
       "  <thead>\n",
       "    <tr style=\"text-align: right;\">\n",
       "      <th></th>\n",
       "      <th>mpg</th>\n",
       "      <th>cylinders</th>\n",
       "      <th>displacement</th>\n",
       "      <th>horsepower</th>\n",
       "      <th>weight</th>\n",
       "      <th>acceleration</th>\n",
       "      <th>model year</th>\n",
       "      <th>origin</th>\n",
       "    </tr>\n",
       "  </thead>\n",
       "  <tbody>\n",
       "    <tr>\n",
       "      <th>count</th>\n",
       "      <td>398.000000</td>\n",
       "      <td>398.000000</td>\n",
       "      <td>398.000000</td>\n",
       "      <td>398.000000</td>\n",
       "      <td>398.000000</td>\n",
       "      <td>398.000000</td>\n",
       "      <td>398.000000</td>\n",
       "      <td>398.000000</td>\n",
       "    </tr>\n",
       "    <tr>\n",
       "      <th>mean</th>\n",
       "      <td>23.514573</td>\n",
       "      <td>5.454774</td>\n",
       "      <td>193.425879</td>\n",
       "      <td>102.894472</td>\n",
       "      <td>2970.424623</td>\n",
       "      <td>15.568090</td>\n",
       "      <td>76.010050</td>\n",
       "      <td>1.572864</td>\n",
       "    </tr>\n",
       "    <tr>\n",
       "      <th>std</th>\n",
       "      <td>7.815984</td>\n",
       "      <td>1.701004</td>\n",
       "      <td>104.269838</td>\n",
       "      <td>40.269544</td>\n",
       "      <td>846.841774</td>\n",
       "      <td>2.757689</td>\n",
       "      <td>3.697627</td>\n",
       "      <td>0.802055</td>\n",
       "    </tr>\n",
       "    <tr>\n",
       "      <th>min</th>\n",
       "      <td>9.000000</td>\n",
       "      <td>3.000000</td>\n",
       "      <td>68.000000</td>\n",
       "      <td>0.000000</td>\n",
       "      <td>1613.000000</td>\n",
       "      <td>8.000000</td>\n",
       "      <td>70.000000</td>\n",
       "      <td>1.000000</td>\n",
       "    </tr>\n",
       "    <tr>\n",
       "      <th>25%</th>\n",
       "      <td>17.500000</td>\n",
       "      <td>4.000000</td>\n",
       "      <td>104.250000</td>\n",
       "      <td>75.000000</td>\n",
       "      <td>2223.750000</td>\n",
       "      <td>13.825000</td>\n",
       "      <td>73.000000</td>\n",
       "      <td>1.000000</td>\n",
       "    </tr>\n",
       "    <tr>\n",
       "      <th>50%</th>\n",
       "      <td>23.000000</td>\n",
       "      <td>4.000000</td>\n",
       "      <td>148.500000</td>\n",
       "      <td>92.000000</td>\n",
       "      <td>2803.500000</td>\n",
       "      <td>15.500000</td>\n",
       "      <td>76.000000</td>\n",
       "      <td>1.000000</td>\n",
       "    </tr>\n",
       "    <tr>\n",
       "      <th>75%</th>\n",
       "      <td>29.000000</td>\n",
       "      <td>8.000000</td>\n",
       "      <td>262.000000</td>\n",
       "      <td>125.000000</td>\n",
       "      <td>3608.000000</td>\n",
       "      <td>17.175000</td>\n",
       "      <td>79.000000</td>\n",
       "      <td>2.000000</td>\n",
       "    </tr>\n",
       "    <tr>\n",
       "      <th>max</th>\n",
       "      <td>46.600000</td>\n",
       "      <td>8.000000</td>\n",
       "      <td>455.000000</td>\n",
       "      <td>230.000000</td>\n",
       "      <td>5140.000000</td>\n",
       "      <td>24.800000</td>\n",
       "      <td>82.000000</td>\n",
       "      <td>3.000000</td>\n",
       "    </tr>\n",
       "  </tbody>\n",
       "</table>\n",
       "</div>"
      ],
      "text/plain": [
       "              mpg   cylinders  displacement  horsepower       weight  \\\n",
       "count  398.000000  398.000000    398.000000  398.000000   398.000000   \n",
       "mean    23.514573    5.454774    193.425879  102.894472  2970.424623   \n",
       "std      7.815984    1.701004    104.269838   40.269544   846.841774   \n",
       "min      9.000000    3.000000     68.000000    0.000000  1613.000000   \n",
       "25%     17.500000    4.000000    104.250000   75.000000  2223.750000   \n",
       "50%     23.000000    4.000000    148.500000   92.000000  2803.500000   \n",
       "75%     29.000000    8.000000    262.000000  125.000000  3608.000000   \n",
       "max     46.600000    8.000000    455.000000  230.000000  5140.000000   \n",
       "\n",
       "       acceleration  model year      origin  \n",
       "count    398.000000  398.000000  398.000000  \n",
       "mean      15.568090   76.010050    1.572864  \n",
       "std        2.757689    3.697627    0.802055  \n",
       "min        8.000000   70.000000    1.000000  \n",
       "25%       13.825000   73.000000    1.000000  \n",
       "50%       15.500000   76.000000    1.000000  \n",
       "75%       17.175000   79.000000    2.000000  \n",
       "max       24.800000   82.000000    3.000000  "
      ]
     },
     "execution_count": 108,
     "metadata": {},
     "output_type": "execute_result"
    }
   ],
   "source": [
    "data.describe()"
   ]
  },
  {
   "cell_type": "code",
   "execution_count": 109,
   "id": "01e7bac7",
   "metadata": {},
   "outputs": [
    {
     "data": {
      "image/png": "[encoded data removed]",
      "text/plain": [
       "<Figure size 640x480 with 1 Axes>"
      ]
     },
     "metadata": {},
     "output_type": "display_data"
    },
    {
     "data": {
      "image/png": "[encoded data removed]",
      "text/plain": [
       "<Figure size 640x480 with 1 Axes>"
      ]
     },
     "metadata": {},
     "output_type": "display_data"
    },
    {
     "data": {
      "image/png": "[encoded data removed]",
      "text/plain": [
       "<Figure size 640x480 with 1 Axes>"
      ]
     },
     "metadata": {},
     "output_type": "display_data"
    },
    {
     "data": {
      "image/png": "[encoded data removed]",
      "text/plain": [
       "<Figure size 640x480 with 1 Axes>"
      ]
     },
     "metadata": {},
     "output_type": "display_data"
    },
    {
     "data": {
      "image/png": "[encoded data removed]",
      "text/plain": [
       "<Figure size 640x480 with 1 Axes>"
      ]
     },
     "metadata": {},
     "output_type": "display_data"
    },
    {
     "data": {
      "image/png": "[encoded data removed]",
      "text/plain": [
       "<Figure size 640x480 with 1 Axes>"
      ]
     },
     "metadata": {},
     "output_type": "display_data"
    },
    {
     "data": {
      "image/png": "[encoded data removed]",
      "text/plain": [
       "<Figure size 640x480 with 1 Axes>"
      ]
     },
     "metadata": {},
     "output_type": "display_data"
    },
    {
     "data": {
      "image/png": "[encoded data removed]",
      "text/plain": [
       "<Figure size 640x480 with 1 Axes>"
      ]
     },
     "metadata": {},
     "output_type": "display_data"
    }
   ],
   "source": [
    "import matplotlib.pyplot as plt\n",
    "for var in data.columns:\n",
    " plt.boxplot(data[var])\n",
    " plt.title(var)\n",
    " plt.show()"
   ]
  },
  {
   "cell_type": "code",
   "execution_count": 110,
   "id": "cbd1a71a",
   "metadata": {},
   "outputs": [],
   "source": [
    "data.origin.unique()\n",
    "from category_encoders import OneHotEncoder\n",
    "encoder=OneHotEncoder(cols=[\"origin\"])\n",
    "data=encoder.fit_transform(data)"
   ]
  },
  {
   "cell_type": "code",
   "execution_count": 111,
   "id": "513c3401",
   "metadata": {},
   "outputs": [],
   "source": [
    "# origin=data.pop('origin')\n",
    "# data['uk']=(origin==1)*1\n",
    "# data['europe']=(origin==2)*2\n",
    "# data['usa']=(origin==3)*3\n",
    "# data"
   ]
  },
  {
   "cell_type": "code",
   "execution_count": 112,
   "id": "1f75d94e",
   "metadata": {},
   "outputs": [
    {
     "data": {
      "text/html": [
       "<div>\n",
       "<style scoped>\n",
       "    .dataframe tbody tr th:only-of-type {\n",
       "        vertical-align: middle;\n",
       "    }\n",
       "\n",
       "    .dataframe tbody tr th {\n",
       "        vertical-align: top;\n",
       "    }\n",
       "\n",
       "    .dataframe thead th {\n",
       "        text-align: right;\n",
       "    }\n",
       "</style>\n",
       "<table border=\"1\" class=\"dataframe\">\n",
       "  <thead>\n",
       "    <tr style=\"text-align: right;\">\n",
       "      <th></th>\n",
       "      <th>mpg</th>\n",
       "      <th>cylinders</th>\n",
       "      <th>displacement</th>\n",
       "      <th>horsepower</th>\n",
       "      <th>weight</th>\n",
       "      <th>acceleration</th>\n",
       "      <th>model year</th>\n",
       "      <th>origin_1</th>\n",
       "      <th>origin_2</th>\n",
       "      <th>origin_3</th>\n",
       "    </tr>\n",
       "  </thead>\n",
       "  <tbody>\n",
       "    <tr>\n",
       "      <th>0</th>\n",
       "      <td>18.0</td>\n",
       "      <td>8</td>\n",
       "      <td>307.0</td>\n",
       "      <td>130</td>\n",
       "      <td>3504</td>\n",
       "      <td>12.0</td>\n",
       "      <td>70</td>\n",
       "      <td>1</td>\n",
       "      <td>0</td>\n",
       "      <td>0</td>\n",
       "    </tr>\n",
       "    <tr>\n",
       "      <th>1</th>\n",
       "      <td>15.0</td>\n",
       "      <td>8</td>\n",
       "      <td>350.0</td>\n",
       "      <td>165</td>\n",
       "      <td>3693</td>\n",
       "      <td>11.5</td>\n",
       "      <td>70</td>\n",
       "      <td>1</td>\n",
       "      <td>0</td>\n",
       "      <td>0</td>\n",
       "    </tr>\n",
       "    <tr>\n",
       "      <th>2</th>\n",
       "      <td>18.0</td>\n",
       "      <td>8</td>\n",
       "      <td>318.0</td>\n",
       "      <td>150</td>\n",
       "      <td>3436</td>\n",
       "      <td>11.0</td>\n",
       "      <td>70</td>\n",
       "      <td>1</td>\n",
       "      <td>0</td>\n",
       "      <td>0</td>\n",
       "    </tr>\n",
       "    <tr>\n",
       "      <th>3</th>\n",
       "      <td>16.0</td>\n",
       "      <td>8</td>\n",
       "      <td>304.0</td>\n",
       "      <td>150</td>\n",
       "      <td>3433</td>\n",
       "      <td>12.0</td>\n",
       "      <td>70</td>\n",
       "      <td>1</td>\n",
       "      <td>0</td>\n",
       "      <td>0</td>\n",
       "    </tr>\n",
       "    <tr>\n",
       "      <th>4</th>\n",
       "      <td>17.0</td>\n",
       "      <td>8</td>\n",
       "      <td>302.0</td>\n",
       "      <td>140</td>\n",
       "      <td>3449</td>\n",
       "      <td>10.5</td>\n",
       "      <td>70</td>\n",
       "      <td>1</td>\n",
       "      <td>0</td>\n",
       "      <td>0</td>\n",
       "    </tr>\n",
       "  </tbody>\n",
       "</table>\n",
       "</div>"
      ],
      "text/plain": [
       "    mpg  cylinders  displacement  horsepower  weight  acceleration  \\\n",
       "0  18.0          8         307.0         130    3504          12.0   \n",
       "1  15.0          8         350.0         165    3693          11.5   \n",
       "2  18.0          8         318.0         150    3436          11.0   \n",
       "3  16.0          8         304.0         150    3433          12.0   \n",
       "4  17.0          8         302.0         140    3449          10.5   \n",
       "\n",
       "   model year  origin_1  origin_2  origin_3  \n",
       "0          70         1         0         0  \n",
       "1          70         1         0         0  \n",
       "2          70         1         0         0  \n",
       "3          70         1         0         0  \n",
       "4          70         1         0         0  "
      ]
     },
     "execution_count": 112,
     "metadata": {},
     "output_type": "execute_result"
    }
   ],
   "source": [
    "data.head()"
   ]
  },
  {
   "cell_type": "code",
   "execution_count": 113,
   "id": "36cd1883",
   "metadata": {},
   "outputs": [],
   "source": [
    "y=data['mpg']\n",
    "X=data.drop(columns=['mpg'])"
   ]
  },
  {
   "cell_type": "code",
   "execution_count": 114,
   "id": "73b30ef0",
   "metadata": {},
   "outputs": [
    {
     "name": "stdout",
     "output_type": "stream",
     "text": [
      "(398, 9)\n",
      "(398,)\n"
     ]
    }
   ],
   "source": [
    "print(X.shape)\n",
    "print(y.shape)"
   ]
  },
  {
   "cell_type": "code",
   "execution_count": 115,
   "id": "3efde01b",
   "metadata": {},
   "outputs": [],
   "source": [
    "\n",
    "import numpy as np\n",
    "from sklearn.preprocessing import StandardScaler\n",
    "scaler1 = StandardScaler()\n",
    "y = scaler1.fit_transform(np.array(y).reshape(-1, 1))"
   ]
  },
  {
   "cell_type": "code",
   "execution_count": 116,
   "id": "07b7495e",
   "metadata": {},
   "outputs": [],
   "source": [
    "from sklearn.model_selection import train_test_split\n",
    "from sklearn.model_selection import train_test_split\n",
    "X_train,X_test,y_train,y_test=train_test_split(X,y, test_size=0.2)"
   ]
  },
  {
   "cell_type": "code",
   "execution_count": 117,
   "id": "f885272a",
   "metadata": {},
   "outputs": [],
   "source": [
    "from sklearn.preprocessing import RobustScaler,StandardScaler,MinMaxScaler\n",
    "scaler=RobustScaler()\n",
    "X_train=scaler.fit_transform(X_train)\n",
    "X_test=scaler.transform(X_test)\n"
   ]
  },
  {
   "cell_type": "code",
   "execution_count": 118,
   "id": "15f5349f",
   "metadata": {},
   "outputs": [],
   "source": [
    "\n",
    "\n",
    "X_train = np.array(X_train)\n",
    "y_train = np.array(y_train)\n",
    "X_test=np.array(X_test)\n",
    "y_test=np.array(y_test)"
   ]
  },
  {
   "cell_type": "code",
   "execution_count": 119,
   "id": "431ef5d8",
   "metadata": {},
   "outputs": [],
   "source": [
    "from tensorflow.keras.models import Sequential\n",
    "from tensorflow.keras.layers import Dense, Dropout\n",
    "reg_model=Sequential()\n",
    "reg_model.add(Dense(units=32,activation=\"relu\"))\n",
    "reg_model.add(Dense(units=16,activation=\"relu\"))\n",
    "reg_model.add(Dropout(rate=0.2))\n",
    "reg_model.add(Dense(16,activation=\"relu\"))\n",
    "reg_model.add(Dense(1))\n",
    "reg_model.compile(optimizer=\"adam\",metrics=[\"mse\",\"mae\"],loss=\"mse\")"
   ]
  },
  {
   "cell_type": "code",
   "execution_count": 120,
   "id": "62b83051",
   "metadata": {},
   "outputs": [
    {
     "name": "stdout",
     "output_type": "stream",
     "text": [
      "Epoch 1/200\n",
      "9/9 [==============================] - 2s 91ms/step - loss: 1.0991 - mse: 1.0991 - mae: 0.8577 - val_loss: 0.8165 - val_mse: 0.8165 - val_mae: 0.7625 - lr: 0.0010\n",
      "Epoch 2/200\n",
      "9/9 [==============================] - 1s 76ms/step - loss: 0.8915 - mse: 0.8915 - mae: 0.7703 - val_loss: 0.6854 - val_mse: 0.6854 - val_mae: 0.6909 - lr: 0.0010\n",
      "Epoch 3/200\n",
      "9/9 [==============================] - 1s 64ms/step - loss: 0.7472 - mse: 0.7472 - mae: 0.6960 - val_loss: 0.5711 - val_mse: 0.5711 - val_mae: 0.6256 - lr: 0.0010\n",
      "Epoch 4/200\n",
      "9/9 [==============================] - 1s 65ms/step - loss: 0.6208 - mse: 0.6208 - mae: 0.6202 - val_loss: 0.4726 - val_mse: 0.4726 - val_mae: 0.5606 - lr: 0.0010\n",
      "Epoch 5/200\n",
      "9/9 [==============================] - 1s 96ms/step - loss: 0.5621 - mse: 0.5621 - mae: 0.5871 - val_loss: 0.3953 - val_mse: 0.3953 - val_mae: 0.5094 - lr: 0.0010\n",
      "Epoch 6/200\n",
      "9/9 [==============================] - 1s 82ms/step - loss: 0.4536 - mse: 0.4536 - mae: 0.5055 - val_loss: 0.3328 - val_mse: 0.3328 - val_mae: 0.4586 - lr: 0.0010\n",
      "Epoch 7/200\n",
      "9/9 [==============================] - 1s 83ms/step - loss: 0.3887 - mse: 0.3887 - mae: 0.4573 - val_loss: 0.2910 - val_mse: 0.2910 - val_mae: 0.4236 - lr: 0.0010\n",
      "Epoch 8/200\n",
      "9/9 [==============================] - 1s 83ms/step - loss: 0.3568 - mse: 0.3568 - mae: 0.4427 - val_loss: 0.2587 - val_mse: 0.2587 - val_mae: 0.3923 - lr: 0.0010\n",
      "Epoch 9/200\n",
      "9/9 [==============================] - 1s 77ms/step - loss: 0.3314 - mse: 0.3314 - mae: 0.4269 - val_loss: 0.2380 - val_mse: 0.2380 - val_mae: 0.3758 - lr: 0.0010\n",
      "Epoch 10/200\n",
      "9/9 [==============================] - 1s 81ms/step - loss: 0.2913 - mse: 0.2913 - mae: 0.4087 - val_loss: 0.2243 - val_mse: 0.2243 - val_mae: 0.3669 - lr: 0.0010\n",
      "Epoch 11/200\n",
      "9/9 [==============================] - 1s 125ms/step - loss: 0.3177 - mse: 0.3177 - mae: 0.4164 - val_loss: 0.2136 - val_mse: 0.2136 - val_mae: 0.3607 - lr: 0.0010\n",
      "Epoch 12/200\n",
      "9/9 [==============================] - 1s 68ms/step - loss: 0.3030 - mse: 0.3030 - mae: 0.4159 - val_loss: 0.2037 - val_mse: 0.2037 - val_mae: 0.3540 - lr: 0.0010\n",
      "Epoch 13/200\n",
      "9/9 [==============================] - 1s 74ms/step - loss: 0.2809 - mse: 0.2809 - mae: 0.3844 - val_loss: 0.1956 - val_mse: 0.1956 - val_mae: 0.3464 - lr: 0.0010\n",
      "Epoch 14/200\n",
      "9/9 [==============================] - 1s 74ms/step - loss: 0.2557 - mse: 0.2557 - mae: 0.3761 - val_loss: 0.1876 - val_mse: 0.1876 - val_mae: 0.3402 - lr: 0.0010\n",
      "Epoch 15/200\n",
      "9/9 [==============================] - 1s 127ms/step - loss: 0.2516 - mse: 0.2516 - mae: 0.3698 - val_loss: 0.1793 - val_mse: 0.1793 - val_mae: 0.3338 - lr: 0.0010\n",
      "Epoch 16/200\n",
      "9/9 [==============================] - 1s 78ms/step - loss: 0.2659 - mse: 0.2659 - mae: 0.3861 - val_loss: 0.1712 - val_mse: 0.1712 - val_mae: 0.3266 - lr: 0.0010\n",
      "Epoch 17/200\n",
      "9/9 [==============================] - 1s 77ms/step - loss: 0.2587 - mse: 0.2587 - mae: 0.3730 - val_loss: 0.1631 - val_mse: 0.1631 - val_mae: 0.3183 - lr: 0.0010\n",
      "Epoch 18/200\n",
      "9/9 [==============================] - 1s 84ms/step - loss: 0.2305 - mse: 0.2305 - mae: 0.3635 - val_loss: 0.1558 - val_mse: 0.1558 - val_mae: 0.3102 - lr: 0.0010\n",
      "Epoch 19/200\n",
      "9/9 [==============================] - 1s 130ms/step - loss: 0.2221 - mse: 0.2221 - mae: 0.3508 - val_loss: 0.1502 - val_mse: 0.1502 - val_mae: 0.3029 - lr: 0.0010\n",
      "Epoch 20/200\n",
      "9/9 [==============================] - 1s 84ms/step - loss: 0.2446 - mse: 0.2446 - mae: 0.3685 - val_loss: 0.1453 - val_mse: 0.1453 - val_mae: 0.2960 - lr: 0.0010\n",
      "Epoch 21/200\n",
      "9/9 [==============================] - 1s 73ms/step - loss: 0.2217 - mse: 0.2217 - mae: 0.3470 - val_loss: 0.1384 - val_mse: 0.1384 - val_mae: 0.2851 - lr: 0.0010\n",
      "Epoch 22/200\n",
      "9/9 [==============================] - 1s 76ms/step - loss: 0.2102 - mse: 0.2102 - mae: 0.3422 - val_loss: 0.1332 - val_mse: 0.1332 - val_mae: 0.2768 - lr: 0.0010\n",
      "Epoch 23/200\n",
      "9/9 [==============================] - 1s 78ms/step - loss: 0.1991 - mse: 0.1991 - mae: 0.3347 - val_loss: 0.1272 - val_mse: 0.1272 - val_mae: 0.2664 - lr: 0.0010\n",
      "Epoch 24/200\n",
      "9/9 [==============================] - 1s 69ms/step - loss: 0.1882 - mse: 0.1882 - mae: 0.3121 - val_loss: 0.1220 - val_mse: 0.1220 - val_mae: 0.2600 - lr: 0.0010\n",
      "Epoch 25/200\n",
      "9/9 [==============================] - 1s 69ms/step - loss: 0.1983 - mse: 0.1983 - mae: 0.3269 - val_loss: 0.1195 - val_mse: 0.1195 - val_mae: 0.2599 - lr: 0.0010\n",
      "Epoch 26/200\n",
      "9/9 [==============================] - 1s 77ms/step - loss: 0.1945 - mse: 0.1945 - mae: 0.3179 - val_loss: 0.1179 - val_mse: 0.1179 - val_mae: 0.2587 - lr: 0.0010\n",
      "Epoch 27/200\n",
      "9/9 [==============================] - 1s 66ms/step - loss: 0.1961 - mse: 0.1961 - mae: 0.3228 - val_loss: 0.1172 - val_mse: 0.1172 - val_mae: 0.2611 - lr: 0.0010\n",
      "Epoch 28/200\n",
      "9/9 [==============================] - 1s 89ms/step - loss: 0.1828 - mse: 0.1828 - mae: 0.3274 - val_loss: 0.1146 - val_mse: 0.1146 - val_mae: 0.2583 - lr: 0.0010\n",
      "Epoch 29/200\n",
      "9/9 [==============================] - 1s 80ms/step - loss: 0.1917 - mse: 0.1917 - mae: 0.3230 - val_loss: 0.1133 - val_mse: 0.1133 - val_mae: 0.2576 - lr: 0.0010\n",
      "Epoch 30/200\n",
      "9/9 [==============================] - 1s 70ms/step - loss: 0.1624 - mse: 0.1624 - mae: 0.3005 - val_loss: 0.1117 - val_mse: 0.1117 - val_mae: 0.2567 - lr: 0.0010\n",
      "Epoch 31/200\n",
      "9/9 [==============================] - 1s 71ms/step - loss: 0.1683 - mse: 0.1683 - mae: 0.3069 - val_loss: 0.1078 - val_mse: 0.1078 - val_mae: 0.2500 - lr: 0.0010\n",
      "Epoch 32/200\n",
      "9/9 [==============================] - 1s 105ms/step - loss: 0.1529 - mse: 0.1529 - mae: 0.2914 - val_loss: 0.1075 - val_mse: 0.1075 - val_mae: 0.2517 - lr: 0.0010\n",
      "Epoch 33/200\n",
      "9/9 [==============================] - 2s 231ms/step - loss: 0.1603 - mse: 0.1603 - mae: 0.2980 - val_loss: 0.1061 - val_mse: 0.1061 - val_mae: 0.2464 - lr: 0.0010\n",
      "Epoch 34/200\n",
      "9/9 [==============================] - 1s 121ms/step - loss: 0.1628 - mse: 0.1628 - mae: 0.3021 - val_loss: 0.1056 - val_mse: 0.1056 - val_mae: 0.2501 - lr: 0.0010\n",
      "Epoch 35/200\n",
      "9/9 [==============================] - 0s 38ms/step - loss: 0.1574 - mse: 0.1574 - mae: 0.2979 - val_loss: 0.1061 - val_mse: 0.1061 - val_mae: 0.2475 - lr: 0.0010\n",
      "Epoch 36/200\n",
      "9/9 [==============================] - 0s 39ms/step - loss: 0.1606 - mse: 0.1606 - mae: 0.3005 - val_loss: 0.1101 - val_mse: 0.1101 - val_mae: 0.2569 - lr: 0.0010\n",
      "Epoch 37/200\n",
      "9/9 [==============================] - 0s 39ms/step - loss: 0.1421 - mse: 0.1421 - mae: 0.2811 - val_loss: 0.1080 - val_mse: 0.1080 - val_mae: 0.2530 - lr: 0.0010\n",
      "Epoch 38/200\n",
      "9/9 [==============================] - 0s 52ms/step - loss: 0.1545 - mse: 0.1545 - mae: 0.2880 - val_loss: 0.1047 - val_mse: 0.1047 - val_mae: 0.2455 - lr: 0.0010\n",
      "Epoch 39/200\n",
      "9/9 [==============================] - 0s 48ms/step - loss: 0.1558 - mse: 0.1558 - mae: 0.2995 - val_loss: 0.1024 - val_mse: 0.1024 - val_mae: 0.2424 - lr: 0.0010\n",
      "Epoch 40/200\n",
      "9/9 [==============================] - 0s 38ms/step - loss: 0.1577 - mse: 0.1577 - mae: 0.2998 - val_loss: 0.1032 - val_mse: 0.1032 - val_mae: 0.2440 - lr: 0.0010\n",
      "Epoch 41/200\n",
      "9/9 [==============================] - 0s 56ms/step - loss: 0.1391 - mse: 0.1391 - mae: 0.2778 - val_loss: 0.1022 - val_mse: 0.1022 - val_mae: 0.2425 - lr: 0.0010\n",
      "Epoch 42/200\n",
      "9/9 [==============================] - 0s 51ms/step - loss: 0.1576 - mse: 0.1576 - mae: 0.2893 - val_loss: 0.0985 - val_mse: 0.0985 - val_mae: 0.2356 - lr: 0.0010\n",
      "Epoch 43/200\n",
      "9/9 [==============================] - 0s 39ms/step - loss: 0.1476 - mse: 0.1476 - mae: 0.2884 - val_loss: 0.1005 - val_mse: 0.1005 - val_mae: 0.2450 - lr: 0.0010\n",
      "Epoch 44/200\n",
      "9/9 [==============================] - 0s 37ms/step - loss: 0.1466 - mse: 0.1466 - mae: 0.2830 - val_loss: 0.0999 - val_mse: 0.0999 - val_mae: 0.2436 - lr: 0.0010\n",
      "Epoch 45/200\n",
      "9/9 [==============================] - 0s 37ms/step - loss: 0.1535 - mse: 0.1535 - mae: 0.2870 - val_loss: 0.0994 - val_mse: 0.0994 - val_mae: 0.2392 - lr: 0.0010\n",
      "Epoch 46/200\n",
      "9/9 [==============================] - 0s 37ms/step - loss: 0.1453 - mse: 0.1453 - mae: 0.2830 - val_loss: 0.1020 - val_mse: 0.1020 - val_mae: 0.2434 - lr: 0.0010\n",
      "Epoch 47/200\n",
      "9/9 [==============================] - 0s 39ms/step - loss: 0.1545 - mse: 0.1545 - mae: 0.2937 - val_loss: 0.1006 - val_mse: 0.1006 - val_mae: 0.2418 - lr: 0.0010\n",
      "Epoch 48/200\n",
      "9/9 [==============================] - 0s 37ms/step - loss: 0.1538 - mse: 0.1538 - mae: 0.2994 - val_loss: 0.0997 - val_mse: 0.0997 - val_mae: 0.2430 - lr: 0.0010\n",
      "Epoch 49/200\n",
      "9/9 [==============================] - 0s 49ms/step - loss: 0.1466 - mse: 0.1466 - mae: 0.2884 - val_loss: 0.0976 - val_mse: 0.0976 - val_mae: 0.2338 - lr: 0.0010\n",
      "Epoch 50/200\n",
      "9/9 [==============================] - 1s 146ms/step - loss: 0.1502 - mse: 0.1502 - mae: 0.2829 - val_loss: 0.0970 - val_mse: 0.0970 - val_mae: 0.2285 - lr: 0.0010\n",
      "Epoch 51/200\n",
      "9/9 [==============================] - 0s 42ms/step - loss: 0.1355 - mse: 0.1355 - mae: 0.2679 - val_loss: 0.0987 - val_mse: 0.0987 - val_mae: 0.2370 - lr: 0.0010\n",
      "Epoch 52/200\n",
      "9/9 [==============================] - 0s 40ms/step - loss: 0.1436 - mse: 0.1436 - mae: 0.2805 - val_loss: 0.0974 - val_mse: 0.0974 - val_mae: 0.2401 - lr: 0.0010\n",
      "Epoch 53/200\n",
      "9/9 [==============================] - 0s 46ms/step - loss: 0.1355 - mse: 0.1355 - mae: 0.2790 - val_loss: 0.0963 - val_mse: 0.0963 - val_mae: 0.2365 - lr: 0.0010\n",
      "Epoch 54/200\n",
      "9/9 [==============================] - 0s 34ms/step - loss: 0.1428 - mse: 0.1428 - mae: 0.2696 - val_loss: 0.0977 - val_mse: 0.0977 - val_mae: 0.2373 - lr: 0.0010\n",
      "Epoch 55/200\n",
      "9/9 [==============================] - 0s 46ms/step - loss: 0.1444 - mse: 0.1444 - mae: 0.2761 - val_loss: 0.0955 - val_mse: 0.0955 - val_mae: 0.2301 - lr: 0.0010\n",
      "Epoch 56/200\n",
      "9/9 [==============================] - 0s 50ms/step - loss: 0.1312 - mse: 0.1312 - mae: 0.2583 - val_loss: 0.0948 - val_mse: 0.0948 - val_mae: 0.2264 - lr: 0.0010\n",
      "Epoch 57/200\n",
      "9/9 [==============================] - 0s 49ms/step - loss: 0.1201 - mse: 0.1201 - mae: 0.2566 - val_loss: 0.0944 - val_mse: 0.0944 - val_mae: 0.2292 - lr: 0.0010\n",
      "Epoch 58/200\n",
      "9/9 [==============================] - 0s 53ms/step - loss: 0.1187 - mse: 0.1187 - mae: 0.2585 - val_loss: 0.0942 - val_mse: 0.0942 - val_mae: 0.2350 - lr: 0.0010\n",
      "Epoch 59/200\n",
      "9/9 [==============================] - 1s 92ms/step - loss: 0.1291 - mse: 0.1291 - mae: 0.2651 - val_loss: 0.0959 - val_mse: 0.0959 - val_mae: 0.2375 - lr: 0.0010\n",
      "Epoch 60/200\n",
      "9/9 [==============================] - 2s 183ms/step - loss: 0.1298 - mse: 0.1298 - mae: 0.2702 - val_loss: 0.0953 - val_mse: 0.0953 - val_mae: 0.2379 - lr: 0.0010\n",
      "Epoch 61/200\n",
      "9/9 [==============================] - 1s 103ms/step - loss: 0.1393 - mse: 0.1393 - mae: 0.2804 - val_loss: 0.0948 - val_mse: 0.0948 - val_mae: 0.2341 - lr: 0.0010\n",
      "Epoch 62/200\n",
      "9/9 [==============================] - 1s 75ms/step - loss: 0.1399 - mse: 0.1399 - mae: 0.2731 - val_loss: 0.0951 - val_mse: 0.0951 - val_mae: 0.2272 - lr: 0.0010\n",
      "Epoch 63/200\n",
      "9/9 [==============================] - 1s 102ms/step - loss: 0.1416 - mse: 0.1416 - mae: 0.2774 - val_loss: 0.0953 - val_mse: 0.0953 - val_mae: 0.2272 - lr: 0.0010\n",
      "Epoch 64/200\n",
      "9/9 [==============================] - 1s 65ms/step - loss: 0.1214 - mse: 0.1214 - mae: 0.2603 - val_loss: 0.0984 - val_mse: 0.0984 - val_mae: 0.2366 - lr: 0.0010\n",
      "Epoch 65/200\n",
      "9/9 [==============================] - 1s 59ms/step - loss: 0.1267 - mse: 0.1267 - mae: 0.2631 - val_loss: 0.0956 - val_mse: 0.0956 - val_mae: 0.2321 - lr: 0.0010\n",
      "Epoch 66/200\n",
      "9/9 [==============================] - 1s 111ms/step - loss: 0.1222 - mse: 0.1222 - mae: 0.2608 - val_loss: 0.0938 - val_mse: 0.0938 - val_mae: 0.2305 - lr: 0.0010\n",
      "Epoch 67/200\n",
      "9/9 [==============================] - 1s 121ms/step - loss: 0.1357 - mse: 0.1357 - mae: 0.2713 - val_loss: 0.0927 - val_mse: 0.0927 - val_mae: 0.2257 - lr: 0.0010\n",
      "Epoch 68/200\n",
      "9/9 [==============================] - 1s 81ms/step - loss: 0.1337 - mse: 0.1337 - mae: 0.2660 - val_loss: 0.0926 - val_mse: 0.0926 - val_mae: 0.2274 - lr: 0.0010\n",
      "Epoch 69/200\n",
      "9/9 [==============================] - 2s 183ms/step - loss: 0.1326 - mse: 0.1326 - mae: 0.2713 - val_loss: 0.0921 - val_mse: 0.0921 - val_mae: 0.2269 - lr: 0.0010\n",
      "Epoch 70/200\n",
      "9/9 [==============================] - 1s 82ms/step - loss: 0.1228 - mse: 0.1228 - mae: 0.2553 - val_loss: 0.0943 - val_mse: 0.0943 - val_mae: 0.2345 - lr: 0.0010\n",
      "Epoch 71/200\n",
      "9/9 [==============================] - 1s 80ms/step - loss: 0.1166 - mse: 0.1166 - mae: 0.2561 - val_loss: 0.0923 - val_mse: 0.0923 - val_mae: 0.2237 - lr: 0.0010\n",
      "Epoch 72/200\n",
      "9/9 [==============================] - 1s 81ms/step - loss: 0.1235 - mse: 0.1235 - mae: 0.2566 - val_loss: 0.0924 - val_mse: 0.0924 - val_mae: 0.2210 - lr: 0.0010\n",
      "Epoch 73/200\n",
      "9/9 [==============================] - 1s 75ms/step - loss: 0.1198 - mse: 0.1198 - mae: 0.2583 - val_loss: 0.0988 - val_mse: 0.0988 - val_mae: 0.2353 - lr: 0.0010\n",
      "Epoch 74/200\n",
      "9/9 [==============================] - 1s 76ms/step - loss: 0.1335 - mse: 0.1335 - mae: 0.2698 - val_loss: 0.0952 - val_mse: 0.0952 - val_mae: 0.2259 - lr: 0.0010\n",
      "Epoch 75/200\n",
      "9/9 [==============================] - 1s 96ms/step - loss: 0.1232 - mse: 0.1232 - mae: 0.2678 - val_loss: 0.0930 - val_mse: 0.0930 - val_mae: 0.2195 - lr: 0.0010\n",
      "Epoch 76/200\n",
      "9/9 [==============================] - 1s 62ms/step - loss: 0.1186 - mse: 0.1186 - mae: 0.2558 - val_loss: 0.0925 - val_mse: 0.0925 - val_mae: 0.2191 - lr: 0.0010\n",
      "Epoch 77/200\n",
      "9/9 [==============================] - 1s 76ms/step - loss: 0.1302 - mse: 0.1302 - mae: 0.2617 - val_loss: 0.0962 - val_mse: 0.0962 - val_mae: 0.2338 - lr: 0.0010\n",
      "Epoch 78/200\n",
      "9/9 [==============================] - 1s 60ms/step - loss: 0.1168 - mse: 0.1168 - mae: 0.2524 - val_loss: 0.0956 - val_mse: 0.0956 - val_mae: 0.2335 - lr: 2.0000e-04\n",
      "Epoch 79/200\n",
      "9/9 [==============================] - 1s 88ms/step - loss: 0.1082 - mse: 0.1082 - mae: 0.2431 - val_loss: 0.0951 - val_mse: 0.0951 - val_mae: 0.2329 - lr: 2.0000e-04\n",
      "Epoch 80/200\n",
      "9/9 [==============================] - 1s 109ms/step - loss: 0.1087 - mse: 0.1087 - mae: 0.2451 - val_loss: 0.0943 - val_mse: 0.0943 - val_mae: 0.2313 - lr: 2.0000e-04\n",
      "Epoch 81/200\n",
      "9/9 [==============================] - 1s 83ms/step - loss: 0.1318 - mse: 0.1318 - mae: 0.2625 - val_loss: 0.0939 - val_mse: 0.0939 - val_mae: 0.2296 - lr: 2.0000e-04\n",
      "Epoch 82/200\n",
      "9/9 [==============================] - 1s 69ms/step - loss: 0.1317 - mse: 0.1317 - mae: 0.2662 - val_loss: 0.0929 - val_mse: 0.0929 - val_mae: 0.2260 - lr: 2.0000e-04\n",
      "Epoch 83/200\n",
      "9/9 [==============================] - 1s 74ms/step - loss: 0.1256 - mse: 0.1256 - mae: 0.2683 - val_loss: 0.0934 - val_mse: 0.0934 - val_mae: 0.2271 - lr: 2.0000e-04\n",
      "Epoch 84/200\n",
      "9/9 [==============================] - 1s 61ms/step - loss: 0.1165 - mse: 0.1165 - mae: 0.2567 - val_loss: 0.0933 - val_mse: 0.0933 - val_mae: 0.2272 - lr: 2.0000e-04\n",
      "Epoch 85/200\n",
      "9/9 [==============================] - 1s 71ms/step - loss: 0.1245 - mse: 0.1245 - mae: 0.2491 - val_loss: 0.0931 - val_mse: 0.0931 - val_mae: 0.2264 - lr: 2.0000e-04\n",
      "Epoch 86/200\n",
      "9/9 [==============================] - 1s 79ms/step - loss: 0.1147 - mse: 0.1147 - mae: 0.2592 - val_loss: 0.0929 - val_mse: 0.0929 - val_mae: 0.2261 - lr: 2.0000e-04\n",
      "Epoch 87/200\n",
      "9/9 [==============================] - 1s 64ms/step - loss: 0.1099 - mse: 0.1099 - mae: 0.2482 - val_loss: 0.0926 - val_mse: 0.0926 - val_mae: 0.2264 - lr: 2.0000e-04\n",
      "Epoch 88/200\n",
      "9/9 [==============================] - 1s 78ms/step - loss: 0.1197 - mse: 0.1197 - mae: 0.2561 - val_loss: 0.0926 - val_mse: 0.0926 - val_mae: 0.2268 - lr: 4.0000e-05\n",
      "Epoch 89/200\n",
      "9/9 [==============================] - 1s 60ms/step - loss: 0.1066 - mse: 0.1066 - mae: 0.2440 - val_loss: 0.0928 - val_mse: 0.0928 - val_mae: 0.2273 - lr: 4.0000e-05\n",
      "Epoch 90/200\n",
      "9/9 [==============================] - 1s 77ms/step - loss: 0.1287 - mse: 0.1287 - mae: 0.2518 - val_loss: 0.0929 - val_mse: 0.0929 - val_mae: 0.2274 - lr: 4.0000e-05\n",
      "Epoch 91/200\n",
      "9/9 [==============================] - 1s 68ms/step - loss: 0.1229 - mse: 0.1229 - mae: 0.2588 - val_loss: 0.0930 - val_mse: 0.0930 - val_mae: 0.2277 - lr: 4.0000e-05\n",
      "Epoch 92/200\n",
      "9/9 [==============================] - 1s 68ms/step - loss: 0.1203 - mse: 0.1203 - mae: 0.2483 - val_loss: 0.0931 - val_mse: 0.0931 - val_mae: 0.2280 - lr: 4.0000e-05\n",
      "Epoch 93/200\n",
      "9/9 [==============================] - 1s 104ms/step - loss: 0.1172 - mse: 0.1172 - mae: 0.2498 - val_loss: 0.0932 - val_mse: 0.0932 - val_mae: 0.2283 - lr: 4.0000e-05\n",
      "Epoch 94/200\n",
      "9/9 [==============================] - 1s 70ms/step - loss: 0.1154 - mse: 0.1154 - mae: 0.2512 - val_loss: 0.0933 - val_mse: 0.0933 - val_mae: 0.2286 - lr: 4.0000e-05\n",
      "Epoch 95/200\n",
      "9/9 [==============================] - 1s 70ms/step - loss: 0.1082 - mse: 0.1082 - mae: 0.2489 - val_loss: 0.0932 - val_mse: 0.0932 - val_mae: 0.2286 - lr: 4.0000e-05\n",
      "Epoch 96/200\n",
      "9/9 [==============================] - 1s 73ms/step - loss: 0.1091 - mse: 0.1091 - mae: 0.2483 - val_loss: 0.0931 - val_mse: 0.0931 - val_mae: 0.2282 - lr: 4.0000e-05\n",
      "Epoch 97/200\n",
      "9/9 [==============================] - 1s 86ms/step - loss: 0.1336 - mse: 0.1336 - mae: 0.2688 - val_loss: 0.0932 - val_mse: 0.0932 - val_mae: 0.2283 - lr: 4.0000e-05\n",
      "Epoch 98/200\n",
      "9/9 [==============================] - 1s 81ms/step - loss: 0.1149 - mse: 0.1149 - mae: 0.2501 - val_loss: 0.0932 - val_mse: 0.0932 - val_mae: 0.2283 - lr: 8.0000e-06\n",
      "Epoch 99/200\n",
      "9/9 [==============================] - 1s 78ms/step - loss: 0.1073 - mse: 0.1073 - mae: 0.2423 - val_loss: 0.0932 - val_mse: 0.0932 - val_mae: 0.2283 - lr: 8.0000e-06\n",
      "Epoch 100/200\n",
      "9/9 [==============================] - 1s 65ms/step - loss: 0.1221 - mse: 0.1221 - mae: 0.2561 - val_loss: 0.0932 - val_mse: 0.0932 - val_mae: 0.2283 - lr: 8.0000e-06\n",
      "Epoch 101/200\n",
      "9/9 [==============================] - 1s 83ms/step - loss: 0.1085 - mse: 0.1085 - mae: 0.2495 - val_loss: 0.0932 - val_mse: 0.0932 - val_mae: 0.2283 - lr: 8.0000e-06\n",
      "Epoch 102/200\n",
      "9/9 [==============================] - 1s 67ms/step - loss: 0.1180 - mse: 0.1180 - mae: 0.2571 - val_loss: 0.0932 - val_mse: 0.0932 - val_mae: 0.2282 - lr: 8.0000e-06\n",
      "Epoch 103/200\n",
      "9/9 [==============================] - 1s 74ms/step - loss: 0.1088 - mse: 0.1088 - mae: 0.2475 - val_loss: 0.0932 - val_mse: 0.0932 - val_mae: 0.2282 - lr: 8.0000e-06\n",
      "Epoch 104/200\n",
      "9/9 [==============================] - 1s 114ms/step - loss: 0.1207 - mse: 0.1207 - mae: 0.2606 - val_loss: 0.0933 - val_mse: 0.0933 - val_mae: 0.2282 - lr: 8.0000e-06\n",
      "Epoch 105/200\n",
      "9/9 [==============================] - 1s 89ms/step - loss: 0.1266 - mse: 0.1266 - mae: 0.2647 - val_loss: 0.0933 - val_mse: 0.0933 - val_mae: 0.2282 - lr: 8.0000e-06\n",
      "Epoch 106/200\n",
      "9/9 [==============================] - 1s 75ms/step - loss: 0.1153 - mse: 0.1153 - mae: 0.2573 - val_loss: 0.0933 - val_mse: 0.0933 - val_mae: 0.2281 - lr: 8.0000e-06\n",
      "Epoch 107/200\n",
      "9/9 [==============================] - 1s 84ms/step - loss: 0.1302 - mse: 0.1302 - mae: 0.2556 - val_loss: 0.0933 - val_mse: 0.0933 - val_mae: 0.2281 - lr: 8.0000e-06\n",
      "Epoch 108/200\n",
      "9/9 [==============================] - 1s 77ms/step - loss: 0.1216 - mse: 0.1216 - mae: 0.2549 - val_loss: 0.0933 - val_mse: 0.0933 - val_mae: 0.2281 - lr: 1.6000e-06\n",
      "Epoch 109/200\n",
      "9/9 [==============================] - 1s 79ms/step - loss: 0.1093 - mse: 0.1093 - mae: 0.2415 - val_loss: 0.0933 - val_mse: 0.0933 - val_mae: 0.2281 - lr: 1.6000e-06\n"
     ]
    }
   ],
   "source": [
    "from keras.callbacks import ReduceLROnPlateau,ModelCheckpoint,EarlyStopping\n",
    "readuce_lr=ReduceLROnPlateau(monitor=\"val_loss\",patience=10,factor=0.2,min_delta=0.001)\n",
    "\n",
    "\n",
    "early_stopping=EarlyStopping(monitor=\"mse\",patience=20)\n",
    "\n",
    "moedl_check_point=ModelCheckpoint(\"reg_model_best.keras\",monitor=\"val_loss\",save_best_only=True)\n",
    "model_fit=reg_model.fit(X_train,y_train,validation_split=0.1,\n",
    "epochs=200,batch_size=32\n",
    "              ,callbacks=[readuce_lr,early_stopping,moedl_check_point])"
   ]
  },
  {
   "cell_type": "code",
   "execution_count": 121,
   "id": "ae9c3cdf",
   "metadata": {},
   "outputs": [
    {
     "data": {
      "image/png": "[encoded data removed]",
      "text/plain": [
       "<Figure size 640x480 with 1 Axes>"
      ]
     },
     "metadata": {},
     "output_type": "display_data"
    }
   ],
   "source": [
    "import matplotlib.pyplot as plt\n",
    "plt.plot(model_fit.history[\"val_loss\"],label=\"val_loss\")\n",
    "plt.plot(model_fit.history[\"loss\"],label=\"loss\")\n",
    "plt.title(\"model loss\")\n",
    "plt.xlabel('Epoch')\n",
    "plt.ylabel('Loss')\n",
    "plt.legend()\n",
    "plt.show()\n",
    "\n",
    "\n"
   ]
  },
  {
   "cell_type": "code",
   "execution_count": 122,
   "id": "13f82d31",
   "metadata": {},
   "outputs": [
    {
     "name": "stdout",
     "output_type": "stream",
     "text": [
      "WARNING:tensorflow:5 out of the last 13 calls to <function Model.make_predict_function.<locals>.predict_function at 0x000002750459D8B0> triggered tf.function retracing. Tracing is expensive and the excessive number of tracings could be due to (1) creating @tf.function repeatedly in a loop, (2) passing tensors with different shapes, (3) passing Python objects instead of tensors. For (1), please define your @tf.function outside of the loop. For (2), @tf.function has reduce_retracing=True option that can avoid unnecessary retracing. For (3), please refer to https://www.tensorflow.org/guide/function#controlling_retracing and https://www.tensorflow.org/api_docs/python/tf/function for  more details.\n",
      "3/3 [==============================] - 0s 7ms/step\n"
     ]
    },
    {
     "data": {
      "text/plain": [
       "array([[ 0.5726243 ],\n",
       "       [-0.61800313],\n",
       "       [ 0.8796222 ],\n",
       "       [-1.0193319 ]], dtype=float32)"
      ]
     },
     "execution_count": 122,
     "metadata": {},
     "output_type": "execute_result"
    }
   ],
   "source": [
    "from keras.models import load_model\n",
    "best_model=load_model(\"reg_model_best.keras\")\n",
    "y_test_model_pred=best_model.predict(X_test)\n",
    "y_test_model_pred[:4]"
   ]
  },
  {
   "cell_type": "code",
   "execution_count": 123,
   "id": "e0655a04",
   "metadata": {},
   "outputs": [
    {
     "name": "stdout",
     "output_type": "stream",
     "text": [
      "3/3 [==============================] - 0s 16ms/step - loss: 0.0977 - mse: 0.0977 - mae: 0.2296\n",
      "Testing mean squared error:MPG 0.22958853840827942\n"
     ]
    }
   ],
   "source": [
    "loss,mae,mse=reg_model.evaluate(X_test,y_test,verbose=1)\n",
    "\n",
    "print('Testing mean squared error:MPG', format(mse))"
   ]
  },
  {
   "cell_type": "code",
   "execution_count": 128,
   "id": "5686e009",
   "metadata": {},
   "outputs": [
    {
     "name": "stdout",
     "output_type": "stream",
     "text": [
      "[[23.5]\n",
      " [19. ]\n",
      " [28.1]\n",
      " [15. ]\n",
      " [25.5]]\n",
      "[[27.98457 ]\n",
      " [18.690342]\n",
      " [30.381044]\n",
      " [15.557506]\n",
      " [27.202602]]\n"
     ]
    }
   ],
   "source": [
    "y_test_original = scaler1.inverse_transform(y_test)\n",
    "test_predictions_original = scaler1.inverse_transform(y_test_model_pred)\n",
    "\n",
    "print(y_test_original[:5])\n",
    "print(test_predictions_original[:5])"
   ]
  }
 ],
 "metadata": {
  "kernelspec": {
   "display_name": "tf-gpu",
   "language": "python",
   "name": "python3"
  },
  "language_info": {
   "codemirror_mode": {
    "name": "ipython",
    "version": 3
   },
   "file_extension": ".py",
   "mimetype": "text/x-python",
   "name": "python",
   "nbconvert_exporter": "python",
   "pygments_lexer": "ipython3",
   "version": "3.9.21"
  }
 },
 "nbformat": 4,
 "nbformat_minor": 5
}
